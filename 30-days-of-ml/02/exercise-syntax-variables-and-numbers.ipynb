{
 "cells": [
  {
   "cell_type": "markdown",
   "id": "46d56d1b",
   "metadata": {
    "papermill": {
     "duration": 0.024628,
     "end_time": "2021-08-03T11:04:25.852119",
     "exception": false,
     "start_time": "2021-08-03T11:04:25.827491",
     "status": "completed"
    },
    "tags": []
   },
   "source": [
    "**This notebook is an exercise in the [Python](https://www.kaggle.com/learn/python) course.  You can reference the tutorial at [this link](https://www.kaggle.com/colinmorris/hello-python).**\n",
    "\n",
    "---\n"
   ]
  },
  {
   "cell_type": "markdown",
   "id": "41bb1f1a",
   "metadata": {
    "papermill": {
     "duration": 0.028031,
     "end_time": "2021-08-03T11:04:25.903783",
     "exception": false,
     "start_time": "2021-08-03T11:04:25.875752",
     "status": "completed"
    },
    "tags": []
   },
   "source": [
    "Welcome to your first set of Python coding problems.  If this is your first time using Kaggle Notebooks, welcome! \n",
    "\n",
    "Notebooks are composed of blocks (called \"cells\") of text and code. Each of these is editable, though you'll mainly be editing the code cells to answer some questions.\n",
    "\n",
    "To get started, try running the code cell below (by pressing the ► button, or clicking on the cell and pressing ctrl+enter on your keyboard)."
   ]
  },
  {
   "cell_type": "code",
   "execution_count": 1,
   "id": "d662d8bd",
   "metadata": {
    "execution": {
     "iopub.execute_input": "2021-08-03T11:04:25.958788Z",
     "iopub.status.busy": "2021-08-03T11:04:25.958142Z",
     "iopub.status.idle": "2021-08-03T11:04:25.961708Z",
     "shell.execute_reply": "2021-08-03T11:04:25.960963Z"
    },
    "papermill": {
     "duration": 0.032068,
     "end_time": "2021-08-03T11:04:25.961878",
     "exception": false,
     "start_time": "2021-08-03T11:04:25.929810",
     "status": "completed"
    },
    "tags": []
   },
   "outputs": [],
   "source": [
    "# Add a new code cell by clicking on an existing code cell, hitting the escape key and then hitting the 'a' key."
   ]
  },
  {
   "cell_type": "code",
   "execution_count": 2,
   "id": "a7840b75",
   "metadata": {
    "execution": {
     "iopub.execute_input": "2021-08-03T11:04:26.021272Z",
     "iopub.status.busy": "2021-08-03T11:04:26.020436Z",
     "iopub.status.idle": "2021-08-03T11:04:26.025974Z",
     "shell.execute_reply": "2021-08-03T11:04:26.026907Z",
     "shell.execute_reply.started": "2021-08-03T10:35:24.704703Z"
    },
    "papermill": {
     "duration": 0.042785,
     "end_time": "2021-08-03T11:04:26.027230",
     "exception": false,
     "start_time": "2021-08-03T11:04:25.984445",
     "status": "completed"
    },
    "tags": []
   },
   "outputs": [
    {
     "name": "stdout",
     "output_type": "stream",
     "text": [
      "You've successfully run some Python code\n",
      "Congratulations!\n"
     ]
    }
   ],
   "source": [
    "print(\"You've successfully run some Python code\")\n",
    "print(\"Congratulations!\")"
   ]
  },
  {
   "cell_type": "code",
   "execution_count": 3,
   "id": "43ccc695",
   "metadata": {
    "execution": {
     "iopub.execute_input": "2021-08-03T11:04:26.080506Z",
     "iopub.status.busy": "2021-08-03T11:04:26.079850Z",
     "iopub.status.idle": "2021-08-03T11:04:26.082856Z",
     "shell.execute_reply": "2021-08-03T11:04:26.082167Z"
    },
    "papermill": {
     "duration": 0.031352,
     "end_time": "2021-08-03T11:04:26.082995",
     "exception": false,
     "start_time": "2021-08-03T11:04:26.051643",
     "status": "completed"
    },
    "tags": []
   },
   "outputs": [],
   "source": [
    "# Add a new code cell by clicking on an existing code cell, hitting the escape key and then hitting the 'b' key."
   ]
  },
  {
   "cell_type": "markdown",
   "id": "d745c9b1",
   "metadata": {
    "papermill": {
     "duration": 0.023085,
     "end_time": "2021-08-03T11:04:26.130124",
     "exception": false,
     "start_time": "2021-08-03T11:04:26.107039",
     "status": "completed"
    },
    "tags": []
   },
   "source": [
    "Try adding another line of code in the cell above and re-running it. \n",
    "\n",
    "Now let's get a little fancier:  Add a new code cell by clicking on an existing code cell, hitting the escape key, and then hitting the `a` or `b` key.  The `a` key will add a cell above the current cell, and `b` adds a cell below.\n",
    "\n",
    "Great! Now you know how to use Notebooks.\n",
    "\n",
    "Each hands-on exercise starts by setting up our feedback and code checking mechanism. Run the code cell below to do that. Then you'll be ready to move on to question 0."
   ]
  },
  {
   "cell_type": "code",
   "execution_count": 4,
   "id": "f9003920",
   "metadata": {
    "_kg_hide-input": true,
    "_kg_hide-output": true,
    "execution": {
     "iopub.execute_input": "2021-08-03T11:04:26.183343Z",
     "iopub.status.busy": "2021-08-03T11:04:26.182670Z",
     "iopub.status.idle": "2021-08-03T11:04:26.317931Z",
     "shell.execute_reply": "2021-08-03T11:04:26.318635Z",
     "shell.execute_reply.started": "2021-08-03T10:37:35.128333Z"
    },
    "papermill": {
     "duration": 0.164589,
     "end_time": "2021-08-03T11:04:26.318856",
     "exception": false,
     "start_time": "2021-08-03T11:04:26.154267",
     "status": "completed"
    },
    "tags": []
   },
   "outputs": [
    {
     "name": "stdout",
     "output_type": "stream",
     "text": [
      "Setup complete! You're ready to start question 0.\n"
     ]
    }
   ],
   "source": [
    "from learntools.core import binder; binder.bind(globals())\n",
    "from learntools.python.ex1 import *\n",
    "print(\"Setup complete! You're ready to start question 0.\")"
   ]
  },
  {
   "cell_type": "markdown",
   "id": "ad459b32",
   "metadata": {
    "papermill": {
     "duration": 0.023065,
     "end_time": "2021-08-03T11:04:26.367030",
     "exception": false,
     "start_time": "2021-08-03T11:04:26.343965",
     "status": "completed"
    },
    "tags": []
   },
   "source": [
    "# 0.\n",
    "\n",
    "*This is a silly question intended as an introduction to the format we use for hands-on exercises throughout all Kaggle courses.*\n",
    "\n",
    "**What is your favorite color? **\n",
    "\n",
    "To complete this question, create a variable called `color` in the cell below with an appropriate value. The function call `q0.check()` (which we've already provided in the cell below) will check your answer."
   ]
  },
  {
   "cell_type": "code",
   "execution_count": 5,
   "id": "ba1fd346",
   "metadata": {
    "execution": {
     "iopub.execute_input": "2021-08-03T11:04:26.436862Z",
     "iopub.status.busy": "2021-08-03T11:04:26.435814Z",
     "iopub.status.idle": "2021-08-03T11:04:26.442543Z",
     "shell.execute_reply": "2021-08-03T11:04:26.443166Z",
     "shell.execute_reply.started": "2021-08-03T10:41:13.736829Z"
    },
    "papermill": {
     "duration": 0.050164,
     "end_time": "2021-08-03T11:04:26.443346",
     "exception": false,
     "start_time": "2021-08-03T11:04:26.393182",
     "status": "completed"
    },
    "tags": []
   },
   "outputs": [
    {
     "data": {
      "application/javascript": [
       "parent.postMessage({\"jupyterEvent\": \"custom.exercise_interaction\", \"data\": {\"outcomeType\": 1, \"valueTowardsCompletion\": 0.25, \"interactionType\": 1, \"questionType\": 2, \"questionId\": \"0_ExerciseFormatTutorial\", \"learnToolsVersion\": \"0.3.4\", \"failureMessage\": \"\", \"exceptionClass\": \"\", \"trace\": \"\"}}, \"*\")"
      ],
      "text/plain": [
       "<IPython.core.display.Javascript object>"
      ]
     },
     "metadata": {},
     "output_type": "display_data"
    },
    {
     "data": {
      "text/markdown": [
       "<span style=\"color:#33cc33\">Correct:</span> What?! You got it right without needing a hint or anything? Drats. Well hey, you should still continue to the next step to get some practice asking for a hint and checking solutions. (Even though you obviously don't need any help here.)"
      ],
      "text/plain": [
       "Correct: What?! You got it right without needing a hint or anything? Drats. Well hey, you should still continue to the next step to get some practice asking for a hint and checking solutions. (Even though you obviously don't need any help here.)"
      ]
     },
     "metadata": {},
     "output_type": "display_data"
    }
   ],
   "source": [
    "# create a variable called color with an appropriate value on the line below\n",
    "# (Remember, strings in Python must be enclosed in 'single' or \"double\" quotes)\n",
    "____\n",
    "\n",
    "color = 'blue'\n",
    "\n",
    "# Check your answer\n",
    "q0.check()"
   ]
  },
  {
   "cell_type": "markdown",
   "id": "0f372636",
   "metadata": {
    "papermill": {
     "duration": 0.027042,
     "end_time": "2021-08-03T11:04:26.495904",
     "exception": false,
     "start_time": "2021-08-03T11:04:26.468862",
     "status": "completed"
    },
    "tags": []
   },
   "source": [
    "Didn't get the right answer? How do you not even know your own favorite color?!\n",
    "\n",
    "Delete the `#` in the line below to make one of the lines run. You can choose between getting a hint or the full answer by choosing which line to remove the `#` from. \n",
    "\n",
    "Removing the `#` is called uncommenting, because it changes that line from a \"comment\" which Python doesn't run to code, which Python does run."
   ]
  },
  {
   "cell_type": "code",
   "execution_count": 6,
   "id": "ca8ec1a3",
   "metadata": {
    "execution": {
     "iopub.execute_input": "2021-08-03T11:04:26.551865Z",
     "iopub.status.busy": "2021-08-03T11:04:26.550836Z",
     "iopub.status.idle": "2021-08-03T11:04:26.553178Z",
     "shell.execute_reply": "2021-08-03T11:04:26.553656Z",
     "shell.execute_reply.started": "2021-08-03T10:43:16.973396Z"
    },
    "papermill": {
     "duration": 0.031701,
     "end_time": "2021-08-03T11:04:26.553835",
     "exception": false,
     "start_time": "2021-08-03T11:04:26.522134",
     "status": "completed"
    },
    "tags": []
   },
   "outputs": [],
   "source": [
    "# q0.hint()\n",
    "# q0.solution()"
   ]
  },
  {
   "cell_type": "markdown",
   "id": "5adbb08d",
   "metadata": {
    "papermill": {
     "duration": 0.024824,
     "end_time": "2021-08-03T11:04:26.603366",
     "exception": false,
     "start_time": "2021-08-03T11:04:26.578542",
     "status": "completed"
    },
    "tags": []
   },
   "source": [
    "The upcoming questions work the same way. The only thing that will change are the question numbers. For the next question, you'll call `q1.check()`, `q1.hint()`, `q1.solution()`, for question 2, you'll call `q2.check()`, and so on."
   ]
  },
  {
   "cell_type": "markdown",
   "id": "36a80a40",
   "metadata": {
    "papermill": {
     "duration": 0.025062,
     "end_time": "2021-08-03T11:04:26.653329",
     "exception": false,
     "start_time": "2021-08-03T11:04:26.628267",
     "status": "completed"
    },
    "tags": []
   },
   "source": [
    "<hr/>\n",
    "\n",
    "# 1.\n",
    "\n",
    "Complete the code below. In case it's helpful, here is the table of available arithmetic operations:\n",
    "\n",
    "\n",
    "\n",
    "| Operator     | Name           | Description                                            |\n",
    "|--------------|----------------|--------------------------------------------------------|\n",
    "| ``a + b``    | Addition       | Sum of ``a`` and ``b``                                 |\n",
    "| ``a - b``    | Subtraction    | Difference of ``a`` and ``b``                          |\n",
    "| ``a * b``    | Multiplication | Product of ``a`` and ``b``                             |\n",
    "| ``a / b``    | True division  | Quotient of ``a`` and ``b``                            |\n",
    "| ``a // b``   | Floor division | Quotient of ``a`` and ``b``, removing fractional parts |\n",
    "| ``a % b``    | Modulus        | Integer remainder after division of ``a`` by ``b``     |\n",
    "| ``a ** b``   | Exponentiation | ``a`` raised to the power of ``b``                     |\n",
    "| ``-a``       | Negation       | The negative of ``a``                                  |\n",
    "\n",
    "<span style=\"display:none\"></span>\n"
   ]
  },
  {
   "cell_type": "code",
   "execution_count": 7,
   "id": "e9a25a1b",
   "metadata": {
    "execution": {
     "iopub.execute_input": "2021-08-03T11:04:26.707221Z",
     "iopub.status.busy": "2021-08-03T11:04:26.706141Z",
     "iopub.status.idle": "2021-08-03T11:04:26.715401Z",
     "shell.execute_reply": "2021-08-03T11:04:26.715967Z",
     "shell.execute_reply.started": "2021-08-03T10:43:04.880517Z"
    },
    "papermill": {
     "duration": 0.038666,
     "end_time": "2021-08-03T11:04:26.716149",
     "exception": false,
     "start_time": "2021-08-03T11:04:26.677483",
     "status": "completed"
    },
    "tags": []
   },
   "outputs": [
    {
     "data": {
      "application/javascript": [
       "parent.postMessage({\"jupyterEvent\": \"custom.exercise_interaction\", \"data\": {\"outcomeType\": 1, \"valueTowardsCompletion\": 0.25, \"interactionType\": 1, \"questionType\": 1, \"questionId\": \"1_CircleArea\", \"learnToolsVersion\": \"0.3.4\", \"failureMessage\": \"\", \"exceptionClass\": \"\", \"trace\": \"\"}}, \"*\")"
      ],
      "text/plain": [
       "<IPython.core.display.Javascript object>"
      ]
     },
     "metadata": {},
     "output_type": "display_data"
    },
    {
     "data": {
      "text/markdown": [
       "<span style=\"color:#33cc33\">Correct</span>"
      ],
      "text/plain": [
       "Correct"
      ]
     },
     "metadata": {},
     "output_type": "display_data"
    }
   ],
   "source": [
    "pi = 3.14159 # approximate\n",
    "diameter = 3\n",
    "\n",
    "# Create a variable called 'radius' equal to half the diameter\n",
    "____\n",
    "radius = diameter / 2\n",
    "\n",
    "# Create a variable called 'area', using the formula for the area of a circle: pi times the radius squared\n",
    "____\n",
    "area = pi * radius ** 2\n",
    "\n",
    "# Check your answer\n",
    "q1.check()"
   ]
  },
  {
   "cell_type": "code",
   "execution_count": 8,
   "id": "6ae2aef4",
   "metadata": {
    "execution": {
     "iopub.execute_input": "2021-08-03T11:04:26.770556Z",
     "iopub.status.busy": "2021-08-03T11:04:26.769606Z",
     "iopub.status.idle": "2021-08-03T11:04:26.773853Z",
     "shell.execute_reply": "2021-08-03T11:04:26.773344Z"
    },
    "papermill": {
     "duration": 0.03236,
     "end_time": "2021-08-03T11:04:26.773991",
     "exception": false,
     "start_time": "2021-08-03T11:04:26.741631",
     "status": "completed"
    },
    "tags": []
   },
   "outputs": [],
   "source": [
    "# Uncomment and run the lines below if you need help.\n",
    "#q1.hint()\n",
    "#q1.solution()"
   ]
  },
  {
   "cell_type": "markdown",
   "id": "e441243f",
   "metadata": {
    "papermill": {
     "duration": 0.025647,
     "end_time": "2021-08-03T11:04:26.825984",
     "exception": false,
     "start_time": "2021-08-03T11:04:26.800337",
     "status": "completed"
    },
    "tags": []
   },
   "source": [
    "<hr/>\n",
    "\n",
    "# 2.\n",
    "\n",
    "Add code to the following cell to swap variables `a` and `b` (so that `a` refers to the object previously referred to by `b` and vice versa)."
   ]
  },
  {
   "cell_type": "code",
   "execution_count": 9,
   "id": "c3386c79",
   "metadata": {
    "execution": {
     "iopub.execute_input": "2021-08-03T11:04:26.883175Z",
     "iopub.status.busy": "2021-08-03T11:04:26.882203Z",
     "iopub.status.idle": "2021-08-03T11:04:26.889169Z",
     "shell.execute_reply": "2021-08-03T11:04:26.888608Z",
     "shell.execute_reply.started": "2021-08-03T10:47:56.834292Z"
    },
    "papermill": {
     "duration": 0.038073,
     "end_time": "2021-08-03T11:04:26.889309",
     "exception": false,
     "start_time": "2021-08-03T11:04:26.851236",
     "status": "completed"
    },
    "tags": []
   },
   "outputs": [
    {
     "data": {
      "application/javascript": [
       "parent.postMessage({\"jupyterEvent\": \"custom.exercise_interaction\", \"data\": {\"outcomeType\": 1, \"valueTowardsCompletion\": 0.25, \"interactionType\": 1, \"questionType\": 2, \"questionId\": \"2_VariableSwap\", \"learnToolsVersion\": \"0.3.4\", \"failureMessage\": \"\", \"exceptionClass\": \"\", \"trace\": \"\"}}, \"*\")"
      ],
      "text/plain": [
       "<IPython.core.display.Javascript object>"
      ]
     },
     "metadata": {},
     "output_type": "display_data"
    },
    {
     "data": {
      "text/markdown": [
       "<span style=\"color:#33cc33\">Correct:</span> \n",
       "\n",
       "The most straightforward solution is to use a third variable to temporarily store one of the old values. e.g.:\n",
       "\n",
       "    tmp = a\n",
       "    a = b\n",
       "    b = tmp\n",
       "\n",
       "If you've read lots of Python code, you might have seen the following trick to swap two variables in one line:\n",
       "\n",
       "    a, b = b, a\n",
       "\n",
       "We'll demystify this bit of Python magic later when we talk about *tuples*."
      ],
      "text/plain": [
       "Correct: \n",
       "\n",
       "The most straightforward solution is to use a third variable to temporarily store one of the old values. e.g.:\n",
       "\n",
       "    tmp = a\n",
       "    a = b\n",
       "    b = tmp\n",
       "\n",
       "If you've read lots of Python code, you might have seen the following trick to swap two variables in one line:\n",
       "\n",
       "    a, b = b, a\n",
       "\n",
       "We'll demystify this bit of Python magic later when we talk about *tuples*."
      ]
     },
     "metadata": {},
     "output_type": "display_data"
    }
   ],
   "source": [
    "########### Setup code - don't touch this part ######################\n",
    "# If you're curious, these are examples of lists. We'll talk about \n",
    "# them in depth a few lessons from now. For now, just know that they're\n",
    "# yet another type of Python object, like int or float.\n",
    "a = [1, 2, 3]\n",
    "b = [3, 2, 1]\n",
    "q2.store_original_ids()\n",
    "######################################################################\n",
    "\n",
    "# Your code goes here. Swap the values to which a and b refer.\n",
    "# If you get stuck, you can always uncomment one or both of the lines in\n",
    "# the next cell for a hint, or to peek at the solution.\n",
    "\n",
    "######################################################################\n",
    "\n",
    "a, b = b, a\n",
    "\n",
    "# Check your answer\n",
    "q2.check()"
   ]
  },
  {
   "cell_type": "code",
   "execution_count": 10,
   "id": "6dda1eca",
   "metadata": {
    "execution": {
     "iopub.execute_input": "2021-08-03T11:04:26.949170Z",
     "iopub.status.busy": "2021-08-03T11:04:26.948526Z",
     "iopub.status.idle": "2021-08-03T11:04:26.951869Z",
     "shell.execute_reply": "2021-08-03T11:04:26.951350Z",
     "shell.execute_reply.started": "2021-08-03T10:47:15.199164Z"
    },
    "papermill": {
     "duration": 0.035018,
     "end_time": "2021-08-03T11:04:26.952002",
     "exception": false,
     "start_time": "2021-08-03T11:04:26.916984",
     "status": "completed"
    },
    "tags": []
   },
   "outputs": [
    {
     "name": "stdout",
     "output_type": "stream",
     "text": [
      "[3, 2, 1] [1, 2, 3]\n"
     ]
    }
   ],
   "source": [
    "# differnt approach\n",
    "a = [1, 2, 3]\n",
    "b = [3, 2, 1]\n",
    "\n",
    "tem = a\n",
    "a = b\n",
    "b = tem\n",
    "\n",
    "print(a, b)"
   ]
  },
  {
   "cell_type": "code",
   "execution_count": 11,
   "id": "f54f1f0c",
   "metadata": {
    "execution": {
     "iopub.execute_input": "2021-08-03T11:04:27.011237Z",
     "iopub.status.busy": "2021-08-03T11:04:27.010140Z",
     "iopub.status.idle": "2021-08-03T11:04:27.013445Z",
     "shell.execute_reply": "2021-08-03T11:04:27.013936Z",
     "shell.execute_reply.started": "2021-08-03T10:49:57.363237Z"
    },
    "papermill": {
     "duration": 0.035657,
     "end_time": "2021-08-03T11:04:27.014121",
     "exception": false,
     "start_time": "2021-08-03T11:04:26.978464",
     "status": "completed"
    },
    "tags": []
   },
   "outputs": [],
   "source": [
    "# q2.hint()"
   ]
  },
  {
   "cell_type": "code",
   "execution_count": 12,
   "id": "38d94733",
   "metadata": {
    "execution": {
     "iopub.execute_input": "2021-08-03T11:04:27.074254Z",
     "iopub.status.busy": "2021-08-03T11:04:27.073302Z",
     "iopub.status.idle": "2021-08-03T11:04:27.076290Z",
     "shell.execute_reply": "2021-08-03T11:04:27.075760Z",
     "shell.execute_reply.started": "2021-08-03T10:49:57.850369Z"
    },
    "papermill": {
     "duration": 0.035219,
     "end_time": "2021-08-03T11:04:27.076419",
     "exception": false,
     "start_time": "2021-08-03T11:04:27.041200",
     "status": "completed"
    },
    "tags": []
   },
   "outputs": [],
   "source": [
    "# q2.solution()"
   ]
  },
  {
   "cell_type": "markdown",
   "id": "b1236a7b",
   "metadata": {
    "papermill": {
     "duration": 0.028321,
     "end_time": "2021-08-03T11:04:27.134624",
     "exception": false,
     "start_time": "2021-08-03T11:04:27.106303",
     "status": "completed"
    },
    "tags": []
   },
   "source": [
    "<hr/>\n",
    "\n",
    "# 3a.\n",
    "\n",
    "Add parentheses to the following expression so that it evaluates to 1."
   ]
  },
  {
   "cell_type": "code",
   "execution_count": 13,
   "id": "be97fc6e",
   "metadata": {
    "execution": {
     "iopub.execute_input": "2021-08-03T11:04:27.198949Z",
     "iopub.status.busy": "2021-08-03T11:04:27.198135Z",
     "iopub.status.idle": "2021-08-03T11:04:27.203267Z",
     "shell.execute_reply": "2021-08-03T11:04:27.202751Z",
     "shell.execute_reply.started": "2021-08-03T10:50:21.879832Z"
    },
    "papermill": {
     "duration": 0.039807,
     "end_time": "2021-08-03T11:04:27.203421",
     "exception": false,
     "start_time": "2021-08-03T11:04:27.163614",
     "status": "completed"
    },
    "tags": []
   },
   "outputs": [
    {
     "data": {
      "text/plain": [
       "1"
      ]
     },
     "execution_count": 13,
     "metadata": {},
     "output_type": "execute_result"
    }
   ],
   "source": [
    "(5 - 3) // 2"
   ]
  },
  {
   "cell_type": "code",
   "execution_count": 14,
   "id": "4b696dbe",
   "metadata": {
    "execution": {
     "iopub.execute_input": "2021-08-03T11:04:27.266361Z",
     "iopub.status.busy": "2021-08-03T11:04:27.265274Z",
     "iopub.status.idle": "2021-08-03T11:04:27.267798Z",
     "shell.execute_reply": "2021-08-03T11:04:27.268244Z"
    },
    "papermill": {
     "duration": 0.034799,
     "end_time": "2021-08-03T11:04:27.268412",
     "exception": false,
     "start_time": "2021-08-03T11:04:27.233613",
     "status": "completed"
    },
    "tags": []
   },
   "outputs": [],
   "source": [
    "#q3.a.hint()"
   ]
  },
  {
   "cell_type": "code",
   "execution_count": 15,
   "id": "1b601bb9",
   "metadata": {
    "execution": {
     "iopub.execute_input": "2021-08-03T11:04:27.327441Z",
     "iopub.status.busy": "2021-08-03T11:04:27.326508Z",
     "iopub.status.idle": "2021-08-03T11:04:27.333779Z",
     "shell.execute_reply": "2021-08-03T11:04:27.334233Z",
     "shell.execute_reply.started": "2021-08-03T10:50:33.394793Z"
    },
    "papermill": {
     "duration": 0.038484,
     "end_time": "2021-08-03T11:04:27.334399",
     "exception": false,
     "start_time": "2021-08-03T11:04:27.295915",
     "status": "completed"
    },
    "tags": []
   },
   "outputs": [
    {
     "data": {
      "application/javascript": [
       "parent.postMessage({\"jupyterEvent\": \"custom.exercise_interaction\", \"data\": {\"interactionType\": 3, \"questionType\": 4, \"questionId\": \"3.1_ArithmeticParensEasy\", \"learnToolsVersion\": \"0.3.4\", \"valueTowardsCompletion\": 0.0, \"failureMessage\": \"\", \"exceptionClass\": \"\", \"trace\": \"\", \"outcomeType\": 4}}, \"*\")"
      ],
      "text/plain": [
       "<IPython.core.display.Javascript object>"
      ]
     },
     "metadata": {},
     "output_type": "display_data"
    },
    {
     "data": {
      "text/markdown": [
       "<span style=\"color:#33cc99\">Solution:</span> \n",
       "```python\n",
       "(5 - 3) // 2\n",
       "```"
      ],
      "text/plain": [
       "Solution: \n",
       "```python\n",
       "(5 - 3) // 2\n",
       "```"
      ]
     },
     "metadata": {},
     "output_type": "display_data"
    }
   ],
   "source": [
    "# Check your answer (Run this code cell to receive credit!)\n",
    "q3.a.solution()"
   ]
  },
  {
   "cell_type": "markdown",
   "id": "ac829d6a",
   "metadata": {
    "papermill": {
     "duration": 0.028406,
     "end_time": "2021-08-03T11:04:27.390660",
     "exception": false,
     "start_time": "2021-08-03T11:04:27.362254",
     "status": "completed"
    },
    "tags": []
   },
   "source": [
    "# 3b.  <span title=\"A bit spicy\" style=\"color: darkgreen \">🌶️</span>\n",
    "\n",
    "<small>Questions, like this one, marked a spicy pepper are a bit harder.</small>\n",
    "\n",
    "Add parentheses to the following expression so that it evaluates to 0."
   ]
  },
  {
   "cell_type": "code",
   "execution_count": 16,
   "id": "da272131",
   "metadata": {
    "execution": {
     "iopub.execute_input": "2021-08-03T11:04:27.467782Z",
     "iopub.status.busy": "2021-08-03T11:04:27.467126Z",
     "iopub.status.idle": "2021-08-03T11:04:27.473362Z",
     "shell.execute_reply": "2021-08-03T11:04:27.473918Z",
     "shell.execute_reply.started": "2021-08-03T10:54:36.842633Z"
    },
    "papermill": {
     "duration": 0.04588,
     "end_time": "2021-08-03T11:04:27.474088",
     "exception": false,
     "start_time": "2021-08-03T11:04:27.428208",
     "status": "completed"
    },
    "tags": []
   },
   "outputs": [
    {
     "data": {
      "text/plain": [
       "0"
      ]
     },
     "execution_count": 16,
     "metadata": {},
     "output_type": "execute_result"
    }
   ],
   "source": [
    "(8 - 3) * (2 - (1 + 1))"
   ]
  },
  {
   "cell_type": "code",
   "execution_count": 17,
   "id": "218faf60",
   "metadata": {
    "execution": {
     "iopub.execute_input": "2021-08-03T11:04:27.543047Z",
     "iopub.status.busy": "2021-08-03T11:04:27.542107Z",
     "iopub.status.idle": "2021-08-03T11:04:27.545449Z",
     "shell.execute_reply": "2021-08-03T11:04:27.545959Z",
     "shell.execute_reply.started": "2021-08-03T10:52:18.340791Z"
    },
    "papermill": {
     "duration": 0.035813,
     "end_time": "2021-08-03T11:04:27.546122",
     "exception": false,
     "start_time": "2021-08-03T11:04:27.510309",
     "status": "completed"
    },
    "tags": []
   },
   "outputs": [],
   "source": [
    "# q3.b.hint()"
   ]
  },
  {
   "cell_type": "code",
   "execution_count": 18,
   "id": "f7385efa",
   "metadata": {
    "execution": {
     "iopub.execute_input": "2021-08-03T11:04:27.606710Z",
     "iopub.status.busy": "2021-08-03T11:04:27.605789Z",
     "iopub.status.idle": "2021-08-03T11:04:27.614227Z",
     "shell.execute_reply": "2021-08-03T11:04:27.613580Z",
     "shell.execute_reply.started": "2021-08-03T10:54:39.207596Z"
    },
    "papermill": {
     "duration": 0.039946,
     "end_time": "2021-08-03T11:04:27.614364",
     "exception": false,
     "start_time": "2021-08-03T11:04:27.574418",
     "status": "completed"
    },
    "tags": []
   },
   "outputs": [
    {
     "data": {
      "application/javascript": [
       "parent.postMessage({\"jupyterEvent\": \"custom.exercise_interaction\", \"data\": {\"interactionType\": 3, \"questionType\": 4, \"questionId\": \"3.2_ArithmeticParensHard\", \"learnToolsVersion\": \"0.3.4\", \"valueTowardsCompletion\": 0.0, \"failureMessage\": \"\", \"exceptionClass\": \"\", \"trace\": \"\", \"outcomeType\": 4}}, \"*\")"
      ],
      "text/plain": [
       "<IPython.core.display.Javascript object>"
      ]
     },
     "metadata": {},
     "output_type": "display_data"
    },
    {
     "data": {
      "text/markdown": [
       "<span style=\"color:#33cc99\">Solution:</span> `(8 - 3) * (2 - (1 + 1))` is one solution. There may be others."
      ],
      "text/plain": [
       "Solution: `(8 - 3) * (2 - (1 + 1))` is one solution. There may be others."
      ]
     },
     "metadata": {},
     "output_type": "display_data"
    }
   ],
   "source": [
    "# Check your answer (Run this code cell to receive credit!)\n",
    "q3.b.solution()"
   ]
  },
  {
   "cell_type": "markdown",
   "id": "05838b5c",
   "metadata": {
    "papermill": {
     "duration": 0.028972,
     "end_time": "2021-08-03T11:04:27.672720",
     "exception": false,
     "start_time": "2021-08-03T11:04:27.643748",
     "status": "completed"
    },
    "tags": []
   },
   "source": [
    "<hr/>\n",
    "\n",
    "# 4. \n",
    "Alice, Bob and Carol have agreed to pool their Halloween candy and split it evenly among themselves.\n",
    "For the sake of their friendship, any candies left over will be smashed. For example, if they collectively\n",
    "bring home 91 candies, they'll take 30 each and smash 1.\n",
    "\n",
    "Write an arithmetic expression below to calculate how many candies they must smash for a given haul."
   ]
  },
  {
   "cell_type": "code",
   "execution_count": 19,
   "id": "cfdd4ba2",
   "metadata": {
    "execution": {
     "iopub.execute_input": "2021-08-03T11:04:27.737526Z",
     "iopub.status.busy": "2021-08-03T11:04:27.736897Z",
     "iopub.status.idle": "2021-08-03T11:04:27.740927Z",
     "shell.execute_reply": "2021-08-03T11:04:27.741376Z",
     "shell.execute_reply.started": "2021-08-03T11:03:25.926708Z"
    },
    "papermill": {
     "duration": 0.039557,
     "end_time": "2021-08-03T11:04:27.741540",
     "exception": false,
     "start_time": "2021-08-03T11:04:27.701983",
     "status": "completed"
    },
    "tags": []
   },
   "outputs": [
    {
     "data": {
      "application/javascript": [
       "parent.postMessage({\"jupyterEvent\": \"custom.exercise_interaction\", \"data\": {\"outcomeType\": 1, \"valueTowardsCompletion\": 0.25, \"interactionType\": 1, \"questionType\": 1, \"questionId\": \"4_CandySplitting\", \"learnToolsVersion\": \"0.3.4\", \"failureMessage\": \"\", \"exceptionClass\": \"\", \"trace\": \"\"}}, \"*\")"
      ],
      "text/plain": [
       "<IPython.core.display.Javascript object>"
      ]
     },
     "metadata": {},
     "output_type": "display_data"
    },
    {
     "data": {
      "text/markdown": [
       "<span style=\"color:#33cc33\">Correct</span>"
      ],
      "text/plain": [
       "Correct"
      ]
     },
     "metadata": {},
     "output_type": "display_data"
    }
   ],
   "source": [
    "# Variables representing the number of candies collected by alice, bob, and carol\n",
    "alice_candies = 121\n",
    "bob_candies = 77\n",
    "carol_candies = 109\n",
    "\n",
    "# Your code goes here! Replace the right-hand side of this assignment with an expression\n",
    "# involving alice_candies, bob_candies, and carol_candies\n",
    "\n",
    "to_smash = (alice_candies + bob_candies + carol_candies) % 3\n",
    "\n",
    "# Check your answer\n",
    "q4.check()"
   ]
  },
  {
   "cell_type": "code",
   "execution_count": 20,
   "id": "194c26f5",
   "metadata": {
    "execution": {
     "iopub.execute_input": "2021-08-03T11:04:27.805972Z",
     "iopub.status.busy": "2021-08-03T11:04:27.805356Z",
     "iopub.status.idle": "2021-08-03T11:04:27.807334Z",
     "shell.execute_reply": "2021-08-03T11:04:27.807876Z",
     "shell.execute_reply.started": "2021-08-03T11:03:16.677485Z"
    },
    "papermill": {
     "duration": 0.036327,
     "end_time": "2021-08-03T11:04:27.808038",
     "exception": false,
     "start_time": "2021-08-03T11:04:27.771711",
     "status": "completed"
    },
    "tags": []
   },
   "outputs": [],
   "source": [
    "# q4.hint()\n",
    "# q4.solution()"
   ]
  },
  {
   "cell_type": "markdown",
   "id": "e4707009",
   "metadata": {
    "papermill": {
     "duration": 0.030046,
     "end_time": "2021-08-03T11:04:27.868405",
     "exception": false,
     "start_time": "2021-08-03T11:04:27.838359",
     "status": "completed"
    },
    "tags": []
   },
   "source": [
    "# Keep Going\n",
    "\n",
    "Next up, you'll **[learn to write new functions and understand functions others write](https://www.kaggle.com/colinmorris/functions-and-getting-help)**. This will make you at least 10 times more productive as a Python programmer. "
   ]
  },
  {
   "cell_type": "markdown",
   "id": "89aa18c3",
   "metadata": {
    "papermill": {
     "duration": 0.029765,
     "end_time": "2021-08-03T11:04:27.928580",
     "exception": false,
     "start_time": "2021-08-03T11:04:27.898815",
     "status": "completed"
    },
    "tags": []
   },
   "source": [
    "---\n",
    "\n",
    "\n",
    "\n",
    "\n",
    "*Have questions or comments? Visit the [Learn Discussion forum](https://www.kaggle.com/learn-forum/161283) to chat with other Learners.*"
   ]
  }
 ],
 "metadata": {
  "kernelspec": {
   "display_name": "Python 3",
   "language": "python",
   "name": "python3"
  },
  "language_info": {
   "codemirror_mode": {
    "name": "ipython",
    "version": 3
   },
   "file_extension": ".py",
   "mimetype": "text/x-python",
   "name": "python",
   "nbconvert_exporter": "python",
   "pygments_lexer": "ipython3",
   "version": "3.7.10"
  },
  "papermill": {
   "default_parameters": {},
   "duration": 11.839052,
   "end_time": "2021-08-03T11:04:29.189925",
   "environment_variables": {},
   "exception": null,
   "input_path": "__notebook__.ipynb",
   "output_path": "__notebook__.ipynb",
   "parameters": {},
   "start_time": "2021-08-03T11:04:17.350873",
   "version": "2.3.3"
  }
 },
 "nbformat": 4,
 "nbformat_minor": 5
}
